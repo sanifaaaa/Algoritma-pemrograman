{
  "nbformat": 4,
  "nbformat_minor": 0,
  "metadata": {
    "colab": {
      "provenance": [],
      "authorship_tag": "ABX9TyN9IrXr6s4vpyEGmQUTTSgB",
      "include_colab_link": true
    },
    "kernelspec": {
      "name": "python3",
      "display_name": "Python 3"
    },
    "language_info": {
      "name": "python"
    }
  },
  "cells": [
    {
      "cell_type": "markdown",
      "metadata": {
        "id": "view-in-github",
        "colab_type": "text"
      },
      "source": [
        "<a href=\"https://colab.research.google.com/github/sanifaaaa/Algoritma-pemrograman/blob/main/tugas_c_pemrograman_python.ipynb\" target=\"_parent\"><img src=\"https://colab.research.google.com/assets/colab-badge.svg\" alt=\"Open In Colab\"/></a>"
      ]
    },
    {
      "cell_type": "code",
      "source": [
        "import os\n",
        "\n",
        "def clear_screen():\n",
        "    os.system('cls' if os.name == 'nt' else 'clear')\n",
        "\n",
        "list_data = []\n",
        "\n",
        "def show_menu():\n",
        "    clear_screen()\n",
        "    print(\"===Aplikasi Kontak===\")\n",
        "    print(\"[1] Lihat Data\")\n",
        "    print(\"[2] Tambah Data\")\n",
        "    print(\"[3] Edit Data\")\n",
        "    print(\"[4] Hapus Data\")\n",
        "    print(\"[0] Exit\")\n",
        "    print(\"--------------------------\")\n",
        "\n",
        "\n",
        "    menu = input(\"Pilih Menu \")\n",
        "    if menu == '1':\n",
        "        menu1()\n",
        "    elif menu == '2':\n",
        "        menu2()\n",
        "    elif menu == '3':\n",
        "        menu3()\n",
        "    elif menu == '4':\n",
        "        menu4()\n",
        "    elif menu == '0':\n",
        "        print(\"Terimakasih Telah Berkunjung\")\n",
        "        exit()\n",
        "    else:\n",
        "        print(\"Menu yang anda masukkan tidak ada, Masukkan pilihan yang tersedia\")\n",
        "        kembali()\n",
        "\n",
        "def menu1():\n",
        "    print('NIM | Nama')\n",
        "    if len(list_data) <= 0:\n",
        "        print('Data Masih Kosong')\n",
        "    else:\n",
        "        for data in list_data:\n",
        "            print(data['NIM'] + \" | \" + data['Nama'])\n",
        "    kembali()\n",
        "\n",
        "def menu2():\n",
        "    nim = input(\"Masukkan NIM Anda: \")\n",
        "    nama = input(\"Masukkan Nama Anda: \")\n",
        "    list_data.append({'Nama': nama, 'NIM': nim})\n",
        "    print(\"Data Berhasil Ditambahkan\")\n",
        "    kembali()\n",
        "\n",
        "\n",
        "def menu3():\n",
        "    index = int(input('Masukkan Nomor Index: '))\n",
        "    nama_lama = list_data[index]\n",
        "    nama_baru = input('Masukkan nama Baru: ')\n",
        "    list_data[index] = nama_baru\n",
        "    print('Nama Anda Telah Dirubah')\n",
        "    kembali()\n",
        "\n",
        "def menu4():\n",
        "    index = int(input(\"Masukkan Nomor Index: \"))\n",
        "    nama = list_data[index]\n",
        "    del list_data[index]\n",
        "    print(\"Data Berhasil Dihapus\")\n",
        "    kembali()\n",
        "\n",
        "def kembali():\n",
        "    print(\"\\n\")\n",
        "    input(\"Tekan Enter untuk kembali\")\n",
        "    show_menu()\n",
        "\n",
        "while(True):\n",
        "    show_menu()\n",
        ""
      ],
      "metadata": {
        "id": "WzaQy9H8xdnG"
      },
      "execution_count": null,
      "outputs": []
    }
  ]
}